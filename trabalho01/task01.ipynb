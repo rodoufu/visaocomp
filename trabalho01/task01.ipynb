{
 "cells": [
  {
   "cell_type": "markdown",
   "metadata": {},
   "source": [
    "# Codificação de arquivos e operações pontuais\n",
    "\n",
    "## Convertendo imagem\n",
    "\n",
    "Importando bibliotecas e definindo variávies."
   ]
  },
  {
   "cell_type": "code",
   "execution_count": 1,
   "metadata": {},
   "outputs": [],
   "source": [
    "import cv2\n",
    "import os\n",
    "import numpy as np\n",
    "\n",
    "file_name = \"VisaoTrab1.tiff\"\n",
    "file_name_no_extension = os.path.splitext(file_name)[0]"
   ]
  },
  {
   "cell_type": "markdown",
   "metadata": {},
   "source": [
    "Abrindo o arquivo {{file_name}} \"VisaoTrab1.tiff\"."
   ]
  },
  {
   "cell_type": "code",
   "execution_count": 2,
   "metadata": {},
   "outputs": [],
   "source": [
    "img = cv2.imread(file_name)"
   ]
  },
  {
   "cell_type": "markdown",
   "metadata": {},
   "source": [
    "Criando arquivos JPEG - 10, 50 e 90%"
   ]
  },
  {
   "cell_type": "code",
   "execution_count": 3,
   "metadata": {},
   "outputs": [],
   "source": [
    "created_files = []\n",
    "for quality in [10, 50, 90]:\n",
    "    created_files += [f'{file_name_no_extension}_{quality}.jpg']\n",
    "\tcv2.imwrite(created_files[-1], img, [int(cv2.IMWRITE_JPEG_QUALITY), quality])"
   ]
  },
  {
   "cell_type": "markdown",
   "metadata": {},
   "source": [
    "Salvar imagem como TIFF - LZW."
   ]
  },
  {
   "cell_type": "code",
   "execution_count": 11,
   "metadata": {},
   "outputs": [
    {
     "data": {
      "text/plain": [
       "True"
      ]
     },
     "execution_count": 11,
     "metadata": {},
     "output_type": "execute_result"
    }
   ],
   "source": [
    "created_files += [f'{file_name_no_extension}_LZW.tiff']\n",
    "cv2.imwrite(created_files[-1], img, [5])\n",
    "# cv2.imwrite(created_files[-1], img, [int(cv2.IMWRITE_TIFF_COMPRESSION), 5])\n",
    "# cv2.imwrite(created_files[-1], img)"
   ]
  },
  {
   "cell_type": "markdown",
   "metadata": {},
   "source": [
    "## Correção gama\n",
    "\n",
    "Convertento a imagem para HSV."
   ]
  },
  {
   "cell_type": "code",
   "execution_count": 5,
   "metadata": {},
   "outputs": [],
   "source": [
    "hsv = cv2.cvtColor(img, cv2.COLOR_BGR2HSV)"
   ]
  },
  {
   "cell_type": "markdown",
   "metadata": {},
   "source": [
    "Valor gamma e constante com o valor máximo para o canal H."
   ]
  },
  {
   "cell_type": "code",
   "execution_count": 6,
   "metadata": {},
   "outputs": [],
   "source": [
    "gamma = 1.5\n",
    "channel_max = 179.0"
   ]
  },
  {
   "cell_type": "markdown",
   "metadata": {},
   "source": [
    "Separando o canal H na variável channel_h."
   ]
  },
  {
   "cell_type": "code",
   "execution_count": 7,
   "metadata": {},
   "outputs": [],
   "source": [
    "channel_h = np.zeros(hsv.shape[:2])\n",
    "for x in range(hsv.shape[0]):\n",
    "\tfor y in range(hsv.shape[1]):\n",
    "\t\tchannel_h[x, y] = hsv[x, y][0] / channel_max"
   ]
  },
  {
   "cell_type": "markdown",
   "metadata": {},
   "source": [
    "Aplicando operação gamma sobre todo o canal H."
   ]
  },
  {
   "cell_type": "code",
   "execution_count": 8,
   "metadata": {},
   "outputs": [],
   "source": [
    "channel_h = channel_h * gamma * channel_max"
   ]
  },
  {
   "cell_type": "markdown",
   "metadata": {},
   "source": [
    "Salvando na matrix."
   ]
  },
  {
   "cell_type": "code",
   "execution_count": 9,
   "metadata": {},
   "outputs": [],
   "source": [
    "for x in range(hsv.shape[0]):\n",
    "\tfor y in range(hsv.shape[1]):\n",
    "\t\thsv[x, y][0] = int(max(min(channel_h[x, y], channel_max), 0))"
   ]
  },
  {
   "cell_type": "markdown",
   "metadata": {},
   "source": [
    "Convertendo imagem para BGR e salvando o arquivo."
   ]
  },
  {
   "cell_type": "code",
   "execution_count": 10,
   "metadata": {},
   "outputs": [
    {
     "data": {
      "text/plain": [
       "True"
      ]
     },
     "execution_count": 10,
     "metadata": {},
     "output_type": "execute_result"
    }
   ],
   "source": [
    "img = cv2.cvtColor(hsv, cv2.COLOR_HSV2BGR)\n",
    "cv2.imwrite(f'{file_name_no_extension}_{gamma}.tiff', img)\n"
   ]
  }
 ],
 "metadata": {
  "kernelspec": {
   "display_name": "Python 3",
   "language": "python",
   "name": "python3"
  },
  "language_info": {
   "codemirror_mode": {
    "name": "ipython",
    "version": 3
   },
   "file_extension": ".py",
   "mimetype": "text/x-python",
   "name": "python",
   "nbconvert_exporter": "python",
   "pygments_lexer": "ipython3",
   "version": "3.6.7"
  }
 },
 "nbformat": 4,
 "nbformat_minor": 2
}
