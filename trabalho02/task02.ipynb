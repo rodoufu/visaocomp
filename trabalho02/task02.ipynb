{
 "cells": [
  {
   "cell_type": "markdown",
   "metadata": {},
   "source": [
    "# Trabalho 2 - Operações de Vizinhança\n",
    "\n",
    "## 1) Sobel e Roberts"
   ]
  },
  {
   "cell_type": "code",
   "execution_count": 1,
   "metadata": {},
   "outputs": [],
   "source": [
    "import cv2\n",
    "import os\n",
    "import numpy as np\n",
    "import matplotlib.pyplot as plt\n",
    "import matplotlib as mpl\n",
    "\n",
    "sobel_x = np.array([[-1, -2, -1], [0, 0, 0], [1, 2, 1]])\n",
    "sobel_y = np.array([[-1, 0, 1], [-2, 0, 2], [-1, 0, 1]])\n",
    "\n",
    "roberts_x = np.array([[-1, 0], [0, 1]])\n",
    "roberts_y = np.array([[0, -1], [1, 0]])"
   ]
  },
  {
   "cell_type": "markdown",
   "metadata": {},
   "source": [
    "## 2) Filtros passa baixa 3x3 e 7x7\n",
    "\n",
    "Definindo imagem e operações:"
   ]
  },
  {
   "cell_type": "code",
   "execution_count": 2,
   "metadata": {},
   "outputs": [
    {
     "data": {
      "image/png": "[encoded data removed]",
      "text/plain": [
       "<Figure size 432x288 with 1 Axes>"
      ]
     },
     "metadata": {
      "needs_background": "light"
     },
     "output_type": "display_data"
    }
   ],
   "source": [
    "image = np.array([\n",
    "\t[0, 0, 0, 0, 0, 0, 0,  0, 0, 0, 255, 255, 255, 255, 255, 255, 255, 255, 255, 255],\n",
    "\t[0, 0, 0, 0, 0, 0, 0,  0, 0, 0, 255, 255, 255, 255, 255, 255, 255, 255, 255, 255],\n",
    "\t[0, 0, 0, 0, 0, 0, 0,  0, 0, 0, 255, 255, 255, 255, 255, 255, 255, 255, 255, 255],\n",
    "\t[0, 0, 0, 0, 0, 0, 0,  0, 0, 0, 255, 255, 255, 255, 255, 255, 255, 255, 255, 255],\n",
    "\t[0, 0, 0, 0, 0, 0, 0,  0, 0, 0, 255, 255, 255, 255, 255, 255, 255, 255, 255, 255],\n",
    "\t[0, 0, 0, 0, 0, 0, 0,  0, 0, 0, 255, 255, 255, 255, 255, 255, 255, 255, 255, 255],\n",
    "\t[0, 0, 0, 0, 0, 0, 0,  0, 0, 0, 255, 255, 255, 255, 255, 255, 255, 255, 255, 255],\n",
    "\t[0, 0, 0, 0, 0, 0, 0,  0, 0, 0, 255, 255, 255, 255, 255, 255, 255, 255, 255, 255],\n",
    "\t[0, 0, 0, 0, 0, 0, 0,  0, 0, 0, 255, 255, 255, 255, 255, 255, 255, 255, 255, 255],\n",
    "\t[0, 0, 0, 0, 0, 0, 0,  0, 0, 0, 255, 255, 255, 255, 255, 255, 255, 255, 255, 255],\n",
    "\t[255, 255, 255, 255, 255, 255, 255, 255, 255, 255, 0, 0, 0, 0, 0, 0, 0, 0, 0, 0],\n",
    "\t[255, 255, 255, 255, 255, 255, 255, 255, 255, 255, 0, 0, 0, 0, 0, 0, 0, 0, 0, 0],\n",
    "\t[255, 255, 255, 255, 255, 255, 255, 255, 255, 255, 0, 0, 0, 0, 0, 0, 0, 0, 0, 0],\n",
    "\t[255, 255, 255, 255, 255, 255, 255, 255, 255, 255, 0, 0, 0, 0, 0, 0, 0, 0, 0, 0],\n",
    "\t[255, 255, 255, 255, 255, 255, 255, 255, 255, 255, 0, 0, 0, 0, 0, 0, 0, 0, 0, 0],\n",
    "\t[255, 255, 255, 255, 255, 255, 255, 255, 255, 255, 0, 0, 0, 0, 0, 0, 0, 0, 0, 0],\n",
    "\t[255, 255, 255, 255, 255, 255, 255, 255, 255, 255, 0, 0, 0, 0, 0, 0, 0, 0, 0, 0],\n",
    "\t[255, 255, 255, 255, 255, 255, 255, 255, 255, 255, 0, 0, 0, 0, 0, 0, 0, 0, 0, 0],\n",
    "\t[255, 255, 255, 255, 255, 255, 255, 255, 255, 255, 0, 0, 0, 0, 0, 0, 0, 0, 0, 0],\n",
    "\t[255, 255, 255, 255, 255, 255, 255, 255, 255, 255, 0, 0, 0, 0, 0, 0, 0, 0, 0, 0]])\n",
    "\n",
    "\n",
    "def passa_baixa(size):\n",
    "\treturn np.array([[1.0/(size ** 2)] * size] * size)\n",
    "\n",
    "\n",
    "def operacao_vizinhanca(img, neigh, min_value=0, max_value=255):\n",
    "\tresp = np.zeros(img.shape[:2])\n",
    "\tImx = img.shape[0]\n",
    "\tImy = img.shape[1]\n",
    "\tNx = neigh.shape[0]\n",
    "\tNy = neigh.shape[1]\n",
    "\n",
    "\t# Ignorando as bordas\n",
    "\tfor x in range(Nx // 2):\n",
    "\t\tfor y in range(Imy):\n",
    "\t\t\tresp[x, y] = img[x, y]\n",
    "\t\t\tresp[Imx - x - 1, y] = img[Imx - x - 1, y]\n",
    "\tfor x in range(Imx):\n",
    "\t\tfor y in range(Ny // 2):\n",
    "\t\t\tresp[x, y] = img[x, y]\n",
    "\t\t\tresp[x, Imy - y - 1] = img[x, Imy - y - 1]\n",
    "\n",
    "\tfor x in range(Nx // 2, img.shape[0] - Nx // 2):\n",
    "\t\tfor y in range(Ny // 2, image.shape[1] - Ny // 2):\n",
    "\t\t\tresp[x, y] = 0\n",
    "\t\t\tfor i in range(Nx):\n",
    "\t\t\t\tfor j in range(Ny):\n",
    "\t\t\t\t\tresp[x, y] += img[x - Nx // 2 + i, y - Ny // 2 + j] * neigh[i, j]\n",
    "\t\t\tresp[x, y] = int(max(min_value, min(resp[x, y], max_value)))\n",
    "\n",
    "\treturn np.uint8(resp)\n",
    "\n",
    "def show_image(img, title=''):\n",
    "\tplt.imshow(img, cmap=plt.get_cmap('gray'), vmin=0, vmax=255)\n",
    "\tplt.title(title)\n",
    "\tplt.show()\n",
    "\n",
    "show_image(image, 'Original')"
   ]
  },
  {
   "cell_type": "markdown",
   "metadata": {},
   "source": [
    "Passa baixa 3x3."
   ]
  },
  {
   "cell_type": "code",
   "execution_count": 3,
   "metadata": {},
   "outputs": [
    {
     "data": {
      "image/png": "[encoded data removed]",
      "text/plain": [
       "<Figure size 432x288 with 1 Axes>"
      ]
     },
     "metadata": {
      "needs_background": "light"
     },
     "output_type": "display_data"
    }
   ],
   "source": [
    "show_image(operacao_vizinhanca(image, passa_baixa(3)), 'Passa baixa 3x3')"
   ]
  },
  {
   "cell_type": "markdown",
   "metadata": {},
   "source": [
    "Passa baixa 7x7."
   ]
  },
  {
   "cell_type": "code",
   "execution_count": 4,
   "metadata": {},
   "outputs": [
    {
     "data": {
      "image/png": "[encoded data removed]",
      "text/plain": [
       "<Figure size 432x288 with 1 Axes>"
      ]
     },
     "metadata": {
      "needs_background": "light"
     },
     "output_type": "display_data"
    }
   ],
   "source": [
    "show_image(operacao_vizinhanca(image, passa_baixa(7)), 'Passa baixa 7x7')"
   ]
  },
  {
   "cell_type": "markdown",
   "metadata": {},
   "source": [
    "## 3) Novos filtros\n",
    "\n",
    "a) Filtro Norte"
   ]
  },
  {
   "cell_type": "code",
   "execution_count": 5,
   "metadata": {},
   "outputs": [
    {
     "data": {
      "image/png": "[encoded data removed]",
      "text/plain": [
       "<Figure size 432x288 with 1 Axes>"
      ]
     },
     "metadata": {
      "needs_background": "light"
     },
     "output_type": "display_data"
    }
   ],
   "source": [
    "filtro_a_norte = np.array([[1, 1, 1], [1, -2, 1], [-1, -1, -1]])\n",
    "show_image(operacao_vizinhanca(image, filtro_a_norte), 'Filtro Norte')"
   ]
  },
  {
   "cell_type": "markdown",
   "metadata": {},
   "source": [
    "b) Filtro Sul"
   ]
  },
  {
   "cell_type": "code",
   "execution_count": 6,
   "metadata": {},
   "outputs": [
    {
     "data": {
      "image/png": "[encoded data removed]",
      "text/plain": [
       "<Figure size 432x288 with 1 Axes>"
      ]
     },
     "metadata": {
      "needs_background": "light"
     },
     "output_type": "display_data"
    }
   ],
   "source": [
    "filtro_b_sul = np.array([[-1, -1, -1], [1, -2, 1], [1, 1, 1]])\n",
    "show_image(operacao_vizinhanca(image, filtro_b_sul), \"Filtro Sul\")"
   ]
  },
  {
   "cell_type": "markdown",
   "metadata": {},
   "source": [
    "c) Filtro Leste"
   ]
  },
  {
   "cell_type": "code",
   "execution_count": 7,
   "metadata": {},
   "outputs": [
    {
     "data": {
      "image/png": "[encoded data removed]",
      "text/plain": [
       "<Figure size 432x288 with 1 Axes>"
      ]
     },
     "metadata": {
      "needs_background": "light"
     },
     "output_type": "display_data"
    }
   ],
   "source": [
    "filtro_c_leste = np.array([[-1, 1, 1], [-1, -2, 1], [-1, 1, 1]])\n",
    "show_image(operacao_vizinhanca(image, filtro_c_leste), 'Filtro Leste')"
   ]
  },
  {
   "cell_type": "markdown",
   "metadata": {},
   "source": [
    "d) Filtro Sudeste"
   ]
  },
  {
   "cell_type": "code",
   "execution_count": 8,
   "metadata": {},
   "outputs": [
    {
     "data": {
      "image/png": "[encoded data removed]",
      "text/plain": [
       "<Figure size 432x288 with 1 Axes>"
      ]
     },
     "metadata": {
      "needs_background": "light"
     },
     "output_type": "display_data"
    }
   ],
   "source": [
    "filtro_d_sudeste = np.array([[-1, -1, 1], [-1, -2, 1], [1, 1, 1]])\n",
    "show_image(operacao_vizinhanca(image, filtro_d_sudeste), 'Filtro Sudeste')"
   ]
  },
  {
   "cell_type": "code",
   "execution_count": null,
   "metadata": {},
   "outputs": [],
   "source": []
  }
 ],
 "metadata": {
  "kernelspec": {
   "display_name": "Python 3",
   "language": "python",
   "name": "python3"
  },
  "language_info": {
   "codemirror_mode": {
    "name": "ipython",
    "version": 3
   },
   "file_extension": ".py",
   "mimetype": "text/x-python",
   "name": "python",
   "nbconvert_exporter": "python",
   "pygments_lexer": "ipython3",
   "version": "3.7.1"
  }
 },
 "nbformat": 4,
 "nbformat_minor": 2
}
